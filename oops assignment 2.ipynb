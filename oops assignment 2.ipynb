{
 "cells": [
  {
   "cell_type": "code",
   "execution_count": 1,
   "id": "93eedef3-7fd6-409a-81c0-f9810c99b49c",
   "metadata": {},
   "outputs": [],
   "source": [
    "#Question 1\n",
    "#Ans\n",
    "#Abstraction: -\n",
    "#Abstraction is used to hide the internal functionality of the function from the users. \n",
    "#The users only interact with the basic implementation of the function, but inner working is hidden.\n",
    "#When we declare an abstract method then we have to override it in our sub class.\n"
   ]
  },
  {
   "cell_type": "code",
   "execution_count": 2,
   "id": "96f23466-6daf-4ecb-a32e-f50a65c087d3",
   "metadata": {},
   "outputs": [],
   "source": [
    "import abc"
   ]
  },
  {
   "cell_type": "code",
   "execution_count": 4,
   "id": "3c8f87bd-901b-4535-afc3-edf40fbfda8f",
   "metadata": {},
   "outputs": [
    {
     "name": "stdout",
     "output_type": "stream",
     "text": [
      "Kumawat\n"
     ]
    }
   ],
   "source": [
    "class Parent:\n",
    "    \n",
    "    @abc.abstractmethod\n",
    "    def last_name(self):\n",
    "        pass\n",
    "    \n",
    "class Child(Parent):\n",
    "    def last_name(self):\n",
    "        print(\"Kumawat\")\n",
    "obj = Child()\n",
    "obj.last_name()"
   ]
  },
  {
   "cell_type": "code",
   "execution_count": 6,
   "id": "4fceb2f9-9d8b-454f-a5db-05570902c944",
   "metadata": {},
   "outputs": [],
   "source": [
    "#Question 2\n",
    "#Ans: - \n",
    "#Abstraction: -\n",
    "#Abstraction is used to hide the internal functionality of the function from the users. \n",
    "#The users only interact with the basic implementation of the function, but inner working is hidden.\n",
    "#When we declare an abstract method then we have to override it in our sub class.\n",
    "#Encapsulation:-\n",
    "#It means bind all the data inside the class no one can access the data from outside of class variable data."
   ]
  },
  {
   "cell_type": "code",
   "execution_count": 11,
   "id": "28e7fca2-75f6-4f4a-95c1-9784befac64d",
   "metadata": {},
   "outputs": [
    {
     "name": "stdout",
     "output_type": "stream",
     "text": [
      "I am in 12th class.\n"
     ]
    }
   ],
   "source": [
    "#Abstraction:-\n",
    "class School:\n",
    "    @abc.abstractmethod\n",
    "    def clas(self,name):\n",
    "        pass\n",
    "class Kaksha(School):\n",
    "    def clas(self,name):\n",
    "        print(f\"I am in {name}th class.\")\n",
    "student = Kaksha()\n",
    "student.clas(12)"
   ]
  },
  {
   "cell_type": "code",
   "execution_count": 14,
   "id": "c57f2ed8-ab33-4833-8441-7892a222edec",
   "metadata": {},
   "outputs": [
    {
     "name": "stdout",
     "output_type": "stream",
     "text": [
      "10\n"
     ]
    }
   ],
   "source": [
    "#Encapsulation\n",
    "class Private:\n",
    "    def __init__(self,value):\n",
    "        self.__value = value\n",
    "        \n",
    "    @property\n",
    "    def get_value(self):\n",
    "        return self.__value\n",
    "    @get_value.setter\n",
    "    def set_value(self,val):\n",
    "        self.__value = val\n",
    "obj = Private(10)\n",
    "print(obj.get_value)"
   ]
  },
  {
   "cell_type": "code",
   "execution_count": 15,
   "id": "497036ed-feed-4e7d-9003-ecac2fef1b1b",
   "metadata": {},
   "outputs": [
    {
     "ename": "AttributeError",
     "evalue": "'Private' object has no attribute '__value'",
     "output_type": "error",
     "traceback": [
      "\u001b[0;31m---------------------------------------------------------------------------\u001b[0m",
      "\u001b[0;31mAttributeError\u001b[0m                            Traceback (most recent call last)",
      "Cell \u001b[0;32mIn[15], line 1\u001b[0m\n\u001b[0;32m----> 1\u001b[0m \u001b[43mobj\u001b[49m\u001b[38;5;241;43m.\u001b[39;49m\u001b[43m__value\u001b[49m\n",
      "\u001b[0;31mAttributeError\u001b[0m: 'Private' object has no attribute '__value'"
     ]
    }
   ],
   "source": [
    "obj.__value"
   ]
  },
  {
   "cell_type": "code",
   "execution_count": 16,
   "id": "8de4beca-8727-4757-a339-a81514d43f04",
   "metadata": {},
   "outputs": [],
   "source": [
    "#Like we do not access the value of class ariable."
   ]
  },
  {
   "cell_type": "code",
   "execution_count": 17,
   "id": "18b085a4-d24e-45e1-b3d1-4cbc47106db4",
   "metadata": {},
   "outputs": [
    {
     "data": {
      "text/plain": [
       "10"
      ]
     },
     "execution_count": 17,
     "metadata": {},
     "output_type": "execute_result"
    }
   ],
   "source": [
    "obj._Private__value"
   ]
  },
  {
   "cell_type": "code",
   "execution_count": 18,
   "id": "c749a976-7185-4bad-be0a-72674c2c63b1",
   "metadata": {},
   "outputs": [],
   "source": [
    "#But like this we can access the value of class variable but if you do not know the class name then you can't access it."
   ]
  },
  {
   "cell_type": "code",
   "execution_count": 20,
   "id": "c46415cf-11b9-4732-9b96-e442e3121c7d",
   "metadata": {},
   "outputs": [],
   "source": [
    "#Question 3\n",
    "#Ans\n",
    "#abc module: -\n",
    "#Here abc stands for abstract base class and it is used to create a method abstract.\n",
    "#The main goal of the abstract base class is to provide a standardized way to test whether an object adheres to a given specification.\n",
    "#It can also prevent any attempt to instantiate a subclass that doesn’t override a particular method in the superclass. \n",
    "#And finally, using an abstract class, a class can derive identity from another class without any object inheritance.\n",
    "#It is used to achieve abstraction."
   ]
  },
  {
   "cell_type": "code",
   "execution_count": 22,
   "id": "e3e51c57-f140-483f-a603-ddf174346ffe",
   "metadata": {},
   "outputs": [
    {
     "data": {
      "text/plain": [
       "314.0"
      ]
     },
     "execution_count": 22,
     "metadata": {},
     "output_type": "execute_result"
    }
   ],
   "source": [
    "#Question 4\n",
    "#ans\n",
    "#Achieving data abstraction\n",
    "class Circle:\n",
    "    @abc.abstractmethod\n",
    "    def area(self):\n",
    "        pass\n",
    "class Result(Circle):\n",
    "    def __init__(self,r):\n",
    "        self.r = r\n",
    "    def area(self):\n",
    "        return 3.14*self.r*self.r\n",
    "data = Result(10)\n",
    "data.area()"
   ]
  },
  {
   "cell_type": "code",
   "execution_count": 23,
   "id": "c8f35a8e-9a89-4e99-88a2-84ba42341287",
   "metadata": {},
   "outputs": [],
   "source": [
    "#Question 5\n",
    "#Ans\n",
    "#In Python, we cannot create an instance of an abstract class directly. \n",
    "#An abstract class is meant to be subclassed and serve as a blueprint for creating concrete (non-abstract) \n",
    "#subclasses that implement the abstract methods defined in the abstract base class.\n",
    "#Attempting to create an instance of an abstract class will result in a TypeError."
   ]
  },
  {
   "cell_type": "code",
   "execution_count": null,
   "id": "d92907c9-4dd1-49b9-94dc-58af1d3bfdeb",
   "metadata": {},
   "outputs": [],
   "source": []
  }
 ],
 "metadata": {
  "kernelspec": {
   "display_name": "Python 3 (ipykernel)",
   "language": "python",
   "name": "python3"
  },
  "language_info": {
   "codemirror_mode": {
    "name": "ipython",
    "version": 3
   },
   "file_extension": ".py",
   "mimetype": "text/x-python",
   "name": "python",
   "nbconvert_exporter": "python",
   "pygments_lexer": "ipython3",
   "version": "3.10.8"
  }
 },
 "nbformat": 4,
 "nbformat_minor": 5
}
